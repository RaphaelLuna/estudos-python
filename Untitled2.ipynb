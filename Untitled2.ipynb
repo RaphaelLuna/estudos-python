{
 "cells": [
  {
   "cell_type": "code",
   "execution_count": null,
   "metadata": {
    "colab": {
     "base_uri": "https://localhost:8080/"
    },
    "executionInfo": {
     "elapsed": 490,
     "status": "ok",
     "timestamp": 1732185075795,
     "user": {
      "displayName": "Raphael Luna",
      "userId": "16319098399677164485"
     },
     "user_tz": -660
    },
    "id": "Z0aaa49CRZbD",
    "outputId": "35739253-f34f-4158-eb86-084346b21fc9"
   },
   "outputs": [],
   "source": [
    "a, b = 0, 1\n",
    "while a <= 13:\n",
    "  if (a % 2) == 1:\n",
    "    print(a)\n",
    "  a, b = b, a+b"
   ]
  },
  {
   "cell_type": "code",
   "execution_count": null,
   "metadata": {
    "colab": {
     "base_uri": "https://localhost:8080/"
    },
    "executionInfo": {
     "elapsed": 3614,
     "status": "ok",
     "timestamp": 1732185323739,
     "user": {
      "displayName": "Raphael Luna",
      "userId": "16319098399677164485"
     },
     "user_tz": -660
    },
    "id": "IsP9XFfWR9O2",
    "outputId": "b5e95a5e-29ec-48f9-d722-6cdd563df162"
   },
   "outputs": [],
   "source": [
    "num = int(input(\"Informe o numero, por favor: \"))\n",
    "\n",
    "for i in range(1, 10):\n",
    "  print(num, \" x \", i, \" = \", (num * i ) )"
   ]
  },
  {
   "cell_type": "code",
   "execution_count": 2,
   "metadata": {
    "colab": {
     "base_uri": "https://localhost:8080/",
     "height": 108
    },
    "executionInfo": {
     "elapsed": 494,
     "status": "error",
     "timestamp": 1732185773723,
     "user": {
      "displayName": "Raphael Luna",
      "userId": "16319098399677164485"
     },
     "user_tz": -660
    },
    "id": "l-k5ab8STjvj",
    "outputId": "3a392da2-cf6c-4b14-87ea-433c8b50f8f1"
   },
   "outputs": [],
   "source": [
    "x = 0\n",
    "n = 20\n",
    "\n",
    "for i in range(1, n + 1):\n",
    "    for j in range(1, n + 1):\n",
    "        x = x + 1\n",
    "\n",
    "\n",
    "\n",
    "\n",
    "\n",
    "\n",
    "\n",
    "\n",
    "\n"
   ]
  },
  {
   "cell_type": "code",
   "execution_count": null,
   "metadata": {},
   "outputs": [],
   "source": []
  }
 ],
 "metadata": {
  "colab": {
   "authorship_tag": "ABX9TyPx+gUsY1M7r4Fx9idyA85V",
   "provenance": []
  },
  "kernelspec": {
   "display_name": "Python 3",
   "name": "python3"
  },
  "language_info": {
   "codemirror_mode": {
    "name": "ipython",
    "version": 3
   },
   "file_extension": ".py",
   "mimetype": "text/x-python",
   "name": "python",
   "nbconvert_exporter": "python",
   "pygments_lexer": "ipython3",
   "version": "3.9.6"
  }
 },
 "nbformat": 4,
 "nbformat_minor": 0
}
