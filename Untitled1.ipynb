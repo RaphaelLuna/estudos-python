{
 "cells": [
  {
   "cell_type": "code",
   "execution_count": 2,
   "metadata": {
    "executionInfo": {
     "elapsed": 2,
     "status": "ok",
     "timestamp": 1732184679430,
     "user": {
      "displayName": "Raphael Luna",
      "userId": "16319098399677164485"
     },
     "user_tz": -660
    },
    "id": "aPzJv34tQEoX"
   },
   "outputs": [],
   "source": [
    "a = 48\n",
    "b = 36"
   ]
  },
  {
   "cell_type": "code",
   "execution_count": 9,
   "metadata": {
    "colab": {
     "base_uri": "https://localhost:8080/",
     "height": 108
    },
    "executionInfo": {
     "elapsed": 316,
     "status": "error",
     "timestamp": 1732184817713,
     "user": {
      "displayName": "Raphael Luna",
      "userId": "16319098399677164485"
     },
     "user_tz": -660
    },
    "id": "Cp_xFQIpPnQl",
    "outputId": "3633f8c1-f5a5-4902-cfe6-e67805a2f1f8"
   },
   "outputs": [],
   "source": [
    "while a !=b:\n",
    "    if a > b:\n",
    "      a = a - b\n",
    "    elif b > a:\n",
    "      b -= a\n"
   ]
  }
 ],
 "metadata": {
  "colab": {
   "authorship_tag": "ABX9TyMtrKVIV6k0dqHwv3JnKl4O",
   "provenance": []
  },
  "kernelspec": {
   "display_name": "Python 3",
   "name": "python3"
  },
  "language_info": {
   "codemirror_mode": {
    "name": "ipython",
    "version": 3
   },
   "file_extension": ".py",
   "mimetype": "text/x-python",
   "name": "python",
   "nbconvert_exporter": "python",
   "pygments_lexer": "ipython3",
   "version": "3.9.6"
  }
 },
 "nbformat": 4,
 "nbformat_minor": 0
}
